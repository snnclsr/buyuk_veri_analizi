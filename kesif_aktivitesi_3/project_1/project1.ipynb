{
 "cells": [
  {
   "cell_type": "code",
   "execution_count": 1,
   "metadata": {},
   "outputs": [],
   "source": [
    "import random\n",
    "import string\n",
    "import os"
   ]
  },
  {
   "cell_type": "code",
   "execution_count": 2,
   "metadata": {},
   "outputs": [
    {
     "name": "stdout",
     "output_type": "stream",
     "text": [
      "sbmcarle\n",
      "scmralbe.\n",
      "!srmablce\n",
      "'smbrlcae?\n",
      "dseon't\n"
     ]
    }
   ],
   "source": [
    "def create_scrambled_word(word_str, start_str, end_str):\n",
    "    list_str = list(word_str)\n",
    "    random.shuffle(list_str)\n",
    "    return start_str + \"\".join(list_str) + end_str\n",
    "\n",
    "def scramble_word(word_str):\n",
    "    if len(word_str) <= 3:\n",
    "        return word_str\n",
    "    \n",
    "    punctations = string.punctuation\n",
    "    if word_str[0] in punctations and word_str[-1] in punctations:\n",
    "        scrambled_str = create_scrambled_word(word_str[2:-2], word_str[:2], word_str[-2:])\n",
    "        \n",
    "    elif word_str[0] in punctations:\n",
    "        scrambled_str = create_scrambled_word(word_str[2:-1], word_str[:2], word_str[-1])\n",
    "\n",
    "    elif word_str[-1] in punctations:\n",
    "        scrambled_str = create_scrambled_word(word_str[1:-2], word_str[0], word_str[-2:])\n",
    "    \n",
    "    elif word_str[-2] in punctations:\n",
    "        scrambled_str = create_scrambled_word(word_str[1:-3], word_str[0], word_str[-3:])\n",
    "\n",
    "    else:\n",
    "        scrambled_str = create_scrambled_word(word_str[1:-1], word_str[0], word_str[-1])\n",
    "        \n",
    "    return scrambled_str\n",
    "    \n",
    "test_str = \"scramble\"\n",
    "print(scramble_word(test_str))\n",
    "test_str2 = \"scramble.\"\n",
    "print(scramble_word(test_str2))\n",
    "test_str3 = \"!scramble\"\n",
    "print(scramble_word(test_str3))\n",
    "test_str4 = \"'scramble?\"\n",
    "print(scramble_word(test_str4))\n",
    "test_str5 = \"doesn't\"\n",
    "print(scramble_word(test_str5))"
   ]
  },
  {
   "cell_type": "code",
   "execution_count": 3,
   "metadata": {},
   "outputs": [
    {
     "name": "stdout",
     "output_type": "stream",
     "text": [
      "Acicrdnog to rsearceh at an Elinsgh uinsrtveiy,\n",
      "it dsoen't meattr in what odrer the lteters in a word are,\n",
      "the olny itapronmt tnihg is taht the frist and last leettr is at the rghit pacle.\n"
     ]
    }
   ],
   "source": [
    "def scramble_line(line_str):\n",
    "    words = line_str.split()\n",
    "    scrambled_list = []\n",
    "    for word in words:\n",
    "        scrambled_list.append(scramble_word(word))\n",
    "    \n",
    "    return \" \".join(scrambled_list)\n",
    "\n",
    "test_str = \"According to research at an English university,\"\n",
    "print(scramble_line(test_str))\n",
    "test_str2 = \"it doesn't matter in what order the letters in a word are,\"\n",
    "print(scramble_line(test_str2))\n",
    "test_str3 = \"the only important thing is that the first and last letter is at the right place.\"\n",
    "print(scramble_line(test_str3))"
   ]
  },
  {
   "cell_type": "code",
   "execution_count": 4,
   "metadata": {},
   "outputs": [],
   "source": [
    "def scramble_file(file_name_str):\n",
    "    with open(file_name_str, \"r\") as f:\n",
    "        content = f.read()\n",
    "        scrambled_text = scramble_line(content)\n",
    "        return scrambled_text"
   ]
  },
  {
   "cell_type": "code",
   "execution_count": 5,
   "metadata": {},
   "outputs": [],
   "source": [
    "easy_filename = \"easy.txt\"\n",
    "hard_filename = \"hard.txt\"\n",
    "\n",
    "def main():\n",
    "    while True:\n",
    "        input_filename = input(\"Enter the filename to read: \")\n",
    "        if os.path.exists(input_filename):\n",
    "            break\n",
    "        else:\n",
    "            print(input_filename, \" --> This filepath couldn't find in the current directory. \" + \n",
    "                  \"Please move your file to the current working directory!\")\n",
    "            continue\n",
    "    \n",
    "    out_filename = input(\"Enter the filename to write the output: \")\n",
    "    scrambled_text = scramble_file(input_filename)\n",
    "    with open(out_filename, \"w\") as out_f:\n",
    "        out_f.write(scrambled_text)\n",
    "        print(\"Scrambled text written to the file: {}\".format(out_filename))"
   ]
  },
  {
   "cell_type": "code",
   "execution_count": 6,
   "metadata": {},
   "outputs": [
    {
     "name": "stdout",
     "output_type": "stream",
     "text": [
      "Enter the filename to read: easy.txt\n",
      "Enter the filename to write the output: easy_scrambled.txt\n",
      "Scrambled text written to the file: easy_scrambled.txt\n"
     ]
    }
   ],
   "source": [
    "main()"
   ]
  },
  {
   "cell_type": "code",
   "execution_count": 7,
   "metadata": {},
   "outputs": [
    {
     "name": "stdout",
     "output_type": "stream",
     "text": [
      "Enter the filename to read: hard.txt\n",
      "Enter the filename to write the output: hard_scrambled.txt\n",
      "Scrambled text written to the file: hard_scrambled.txt\n"
     ]
    }
   ],
   "source": [
    "main()"
   ]
  }
 ],
 "metadata": {
  "kernelspec": {
   "display_name": "Python 3",
   "language": "python",
   "name": "python3"
  },
  "language_info": {
   "codemirror_mode": {
    "name": "ipython",
    "version": 3
   },
   "file_extension": ".py",
   "mimetype": "text/x-python",
   "name": "python",
   "nbconvert_exporter": "python",
   "pygments_lexer": "ipython3",
   "version": "3.6.3"
  }
 },
 "nbformat": 4,
 "nbformat_minor": 2
}
